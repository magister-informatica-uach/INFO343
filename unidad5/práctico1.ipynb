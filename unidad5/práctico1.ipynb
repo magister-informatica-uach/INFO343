{
 "cells": [
  {
   "cell_type": "code",
   "execution_count": null,
   "metadata": {},
   "outputs": [],
   "source": [
    "import numpy as np\n",
    "import sklearn.datasets\n",
    "import sklearn.model_selection\n",
    "\n",
    "data, labels = sklearn.datasets.make_circles(n_samples=1000, noise=0.2, factor=0.25)\n",
    "#data, labels = sklearn.datasets.make_moons(n_samples=1000, noise=0.2)\n",
    "#data, labels = sklearn.datasets.make_blobs(n_samples=[250]*4, n_features=2, cluster_std=0.5,\n",
    "#                                          centers=np.array([[-1, 1], [1, 1], [-1, -1], [1, -1]]))\n",
    "#labels[labels==2] = 1; labels[labels==3] = 0;\n",
    "\n",
    "train_idx, test_idx = next(sklearn.model_selection.ShuffleSplit(train_size=0.6).split(data, labels))"
   ]
  },
  {
   "cell_type": "markdown",
   "metadata": {},
   "source": [
    "## Clasificación de datos no linealmente separables con red MLP\n",
    "\n",
    "1. Genere los datos y los índices de entrenamiento y prueba con el bloque de arriba\n",
    "1. Complete la implementación de `myMLP` que se muestra a continuación\n",
    "    1. Use dos capas completamente conectadas\n",
    "    1. Use 10 neuronas en la capa oculta\n",
    "    1. Use función de activación `Sigmoid`\n",
    "1. Entrene su red con los datos generados\n",
    "    1. Use Adam \n",
    "    1. Use número máximo de épocas igual a 1000\n",
    "    1. Use tamaño de batch 32\n",
    "    1. Use función de costo `CrossEntropyLoss`\n",
    "    1. Proponga e implemente un criterio para detener el entrenamiento de la red que ayude a evitar el sobreajuste. Justifique\n",
    "    1. Opcional: Modifique el entrenamiento para correr en GPU. \n",
    "1. Repita el experimento modificando el tamaño de *minibatch* a 1, 32 y 256 ¿Qué diferencias nota? Discuta y justifique\n",
    "1. Repita el experimento modificando el número de neuronas ¿Qué diferencias nota? Discuta y justifique\n",
    "1. Repita el experimento cambiando la función de activación a `Linear` y a `ReLU` ¿Qué diferencias nota? Discuta y justifique\n",
    "1. Repita el experimento usando los datasets *two moons*  \n"
   ]
  },
  {
   "cell_type": "code",
   "execution_count": null,
   "metadata": {},
   "outputs": [],
   "source": [
    "import torch\n",
    "\n",
    "# Implementar red neuronal\n",
    "class myMLP(torch.nn.Module):\n",
    "\n",
    "    def __init__(self, input_dim=2, hidden_dim=10, output_dim=1):        \n",
    "        super(myMLP, self).__init__()  \n",
    "        # Completar aquí\n",
    "        \n",
    "    def forward(self, x):\n",
    "        # Completar aquí\n",
    "\n",
    "# Crear conjuntos de entrenamiento y prueba\n",
    "from torch.utils.data import DataLoader, TensorDataset, Subset \n",
    "\n",
    "torch_set = TensorDataset(torch.from_numpy(data.astype('float32')), \n",
    "                          torch.from_numpy(labels.astype('float32')))\n",
    "\n",
    "torch_train_loader = DataLoader(Subset(torch_set, train_idx), shuffle=True, batch_size=32)\n",
    "torch_valid_loader = DataLoader(Subset(torch_set, test_idx), shuffle=False, batch_size=256)"
   ]
  },
  {
   "cell_type": "code",
   "execution_count": null,
   "metadata": {},
   "outputs": [],
   "source": []
  }
 ],
 "metadata": {
  "kernelspec": {
   "display_name": "Python 3",
   "language": "python",
   "name": "python3"
  },
  "language_info": {
   "codemirror_mode": {
    "name": "ipython",
    "version": 3
   },
   "file_extension": ".py",
   "mimetype": "text/x-python",
   "name": "python",
   "nbconvert_exporter": "python",
   "pygments_lexer": "ipython3",
   "version": "3.7.3"
  }
 },
 "nbformat": 4,
 "nbformat_minor": 2
}
