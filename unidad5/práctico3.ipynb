{
 "cells": [
  {
   "cell_type": "markdown",
   "metadata": {},
   "source": [
    "1. Escriba un autoencoder y entrénelo sobre el dataset [Fashion-MNIST](https://pytorch.org/docs/stable/torchvision/datasets.html#fashion-mnist)\n",
    "    - Use capas convolucionales para el encoder y el decoder\n",
    "    - Usted debe definir la cantidad de capas, la cantidad de filtros por capa y el tamaño de los filtros\n",
    "    - Use 2 dimensiones en el cuello de botella (espacio latente)\n",
    "    - Use activación lineal en el cuello de botella y en la salida\n",
    "    - Use función de costo `BCEWithLogitsLoss`\n",
    "1. Visualice el espacio latente del conjunto de test con un scatter plot (coloree cada clase de forma distinta). Describa el resultado y comente sobre las clases más separadas y más \"confundidas\" en el espacio latente.\n",
    "1. Encuentre y visualize los diez ejemplos con mayor error de reconstrucción del conjunto de test\n",
    "1. Mida la calidad de las reconstrucciones en el conjunto de test por clase. ¿Cúales clases son más difíciles de reconstruir?"
   ]
  },
  {
   "cell_type": "code",
   "execution_count": null,
   "metadata": {},
   "outputs": [],
   "source": [
    "class mi_autoencoder(torch.nn.Module):\n",
    "    \n",
    "    def __init__(self):\n",
    "        super(mi_autoencoder, self).__init__()\n",
    "        # Llenar\n",
    "    \n",
    "    def encode(self, x):\n",
    "        # Llenar        \n",
    "        return x\n",
    "        \n",
    "    def decode(self, z):\n",
    "        # Llenar\n",
    "        return z\n",
    "    \n",
    "    def forward(self, x):\n",
    "        z = self.encode(x)\n",
    "        return self.decode(z)"
   ]
  }
 ],
 "metadata": {
  "kernelspec": {
   "display_name": "Python 3",
   "language": "python",
   "name": "python3"
  },
  "language_info": {
   "codemirror_mode": {
    "name": "ipython",
    "version": 3
   },
   "file_extension": ".py",
   "mimetype": "text/x-python",
   "name": "python",
   "nbconvert_exporter": "python",
   "pygments_lexer": "ipython3",
   "version": "3.7.3"
  }
 },
 "nbformat": 4,
 "nbformat_minor": 2
}
