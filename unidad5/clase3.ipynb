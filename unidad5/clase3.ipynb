{
 "cells": [
  {
   "cell_type": "code",
   "execution_count": null,
   "metadata": {
    "scrolled": true
   },
   "outputs": [],
   "source": [
    "import numpy as np\n",
    "import matplotlib.pylab as plt\n",
    "%matplotlib notebook\n",
    "from  tqdm import tqdm_notebook\n",
    "import time\n",
    "from os.path import join, expanduser\n",
    "from os import environ\n",
    "from tensorflow.examples.tutorials.mnist import input_data\n",
    "mnist = input_data.read_data_sets(join(expanduser('~'),\"MNIST_data\"), one_hot=True)"
   ]
  },
  {
   "cell_type": "code",
   "execution_count": null,
   "metadata": {},
   "outputs": [],
   "source": [
    "npix = 28\n",
    "\n",
    "fig,ax = plt.subplots(1, 10, figsize=(10, 1.5), dpi=80)\n",
    "P = np.random.permutation(10000)\n",
    "for i in range(10):\n",
    "    idx = P[i]\n",
    "    ax[i].matshow(np.reshape(mnist.train.images[idx, :], (npix, npix)), cmap=plt.cm.Greys_r)\n",
    "    ax[i].set_title(str(np.argmax(mnist.train.labels[idx])))\n",
    "    ax[i].axis('off');\n",
    "fig.tight_layout()"
   ]
  },
  {
   "cell_type": "code",
   "execution_count": null,
   "metadata": {},
   "outputs": [],
   "source": [
    "\"\"\"\n",
    "\n",
    "Use this to select GPU and limit the memory usage\n",
    "\n",
    "\"\"\"\n",
    "environ[\"CUDA_VISIBLE_DEVICES\"] = \"0\"\n",
    "import tensorflow as tf\n",
    "config = tf.ConfigProto()\n",
    "config.gpu_options.per_process_gpu_memory_fraction = 0.3"
   ]
  },
  {
   "cell_type": "code",
   "execution_count": null,
   "metadata": {},
   "outputs": [],
   "source": [
    "nepochs = 20\n",
    "batch_size = 32\n",
    "metrics = np.zeros(shape=(nepochs, 2))\n",
    "\n",
    "tf.reset_default_graph()\n",
    "\n",
    "x = tf.placeholder(tf.float32, [None, 784])\n",
    "#with tf.variable_scope('encoder'):\n",
    "#    h = tf.layers.dense(inputs=x, units=64, use_bias=True, activation=tf.nn.relu)\n",
    "with tf.variable_scope('latent'):\n",
    "    z = tf.layers.dense(inputs=x, units=2, use_bias=True, activation=None)\n",
    "with tf.variable_scope('decoder'):\n",
    "    #h = tf.layers.dense(inputs=z, units=64, use_bias=True, activation=tf.nn.relu)\n",
    "    y = tf.layers.dense(inputs=z, units=784, use_bias=True, activation=None)\n",
    "    x_hat = tf.nn.sigmoid(y)\n",
    "\n",
    "cross_entropy = tf.nn.sigmoid_cross_entropy_with_logits(logits=y, labels=x)\n",
    "reg = tf.reduce_mean(tf.norm(z, ord=2))\n",
    "loss = tf.reduce_mean(cross_entropy)\n",
    "beta = 0.0\n",
    "train_step = tf.train.AdamOptimizer(learning_rate=1e-3).minimize(loss + beta*reg)\n",
    "\n",
    "fig, ax = plt.subplots(1, 1, figsize=(5, 3), dpi=80)\n",
    "ax.plot(0, linewidth=2, alpha=0.75, label='Train'); \n",
    "ax.plot(0, linewidth=2, alpha=0.75, label='Test');\n",
    "ax.set_ylabel('Loss'); ax.set_xlabel('Epoch')\n",
    "line1, line2 = ax.lines\n",
    "plt.legend(); plt.grid(); plt.tight_layout();\n",
    "\n",
    "with tf.Session(config=config) as sess:    \n",
    "    tf.global_variables_initializer().run()\n",
    "    for epoch in tqdm_notebook(range(nepochs), desc='Train epoch'):\n",
    "        for _ in range(int(mnist.train.images.shape[0]/batch_size)):\n",
    "            batch_xs, batch_ys = mnist.train.next_batch(batch_size)\n",
    "            sess.run(train_step, feed_dict={x: batch_xs})\n",
    "        metrics[epoch, 0] = sess.run(loss, feed_dict={x: mnist.train.images})\n",
    "        metrics[epoch, 1] = sess.run(loss, feed_dict={x: mnist.test.images})\n",
    "        if epoch > 0:\n",
    "            line1.set_data(range(epoch+1), metrics[:epoch+1, 0])\n",
    "            line2.set_data(range(epoch+1), metrics[:epoch+1, 1])\n",
    "            ax.set_xlim([0, epoch])\n",
    "            ax.set_ylim([np.amin(metrics[:epoch+1,:]), np.amax(metrics[:epoch+1,:])])\n",
    "            fig.canvas.draw()\n",
    "    z_eval = sess.run(z, feed_dict={x: mnist.test.images})\n",
    "    x_hat_eval = sess.run(x_hat, feed_dict={x: mnist.test.images})\n"
   ]
  },
  {
   "cell_type": "code",
   "execution_count": null,
   "metadata": {},
   "outputs": [],
   "source": [
    "fig, axs = plt.subplots(2, 10, figsize=(10, 2), dpi=80)\n",
    "P = np.random.permutation(10000)\n",
    "for i in range(10):\n",
    "    idx = P[i]\n",
    "    axs[0, i].matshow(np.reshape(mnist.test.images[idx, :], (npix, npix)), cmap=plt.cm.Greys_r)\n",
    "    axs[0, i].axis('off');\n",
    "    axs[1, i].matshow(np.reshape(x_hat_eval[idx, :], (npix, npix)), cmap=plt.cm.Greys_r)\n",
    "    axs[1, i].axis('off');\n",
    "plt.tight_layout();"
   ]
  },
  {
   "cell_type": "code",
   "execution_count": null,
   "metadata": {},
   "outputs": [],
   "source": [
    "fig = plt.figure(figsize=(10, 4), dpi=80)\n",
    "ax_main = plt.subplot2grid((2, 3), (0, 0), colspan=2, rowspan=2)\n",
    "ax_ori = plt.subplot2grid((2, 3), (0, 2))\n",
    "ax_rec = plt.subplot2grid((2, 3), (1, 2))\n",
    "ax_ori.axis('off'); ax_rec.axis('off');\n",
    "ax_main.scatter(z_eval[:, 0], z_eval[:, 1], s=1)\n",
    "\n",
    "def onclick(event):\n",
    "    z_closest = [event.xdata, event.ydata]\n",
    "    idx = np.argmin(np.sum((z_eval - z_closest)**2, axis=1))\n",
    "    ax_ori.matshow(mnist.test.images[idx].reshape(npix, npix), cmap=plt.cm.Greys_r)\n",
    "    ax_rec.matshow(x_hat_eval[idx].reshape(npix, npix), cmap=plt.cm.Greys_r)\n",
    "    \n",
    "cid = fig.canvas.mpl_connect('button_press_event', onclick)"
   ]
  },
  {
   "cell_type": "code",
   "execution_count": null,
   "metadata": {},
   "outputs": [],
   "source": []
  }
 ],
 "metadata": {
  "kernelspec": {
   "display_name": "Python 3",
   "language": "python",
   "name": "python3"
  },
  "language_info": {
   "codemirror_mode": {
    "name": "ipython",
    "version": 3
   },
   "file_extension": ".py",
   "mimetype": "text/x-python",
   "name": "python",
   "nbconvert_exporter": "python",
   "pygments_lexer": "ipython3",
   "version": "3.7.2"
  }
 },
 "nbformat": 4,
 "nbformat_minor": 2
}
