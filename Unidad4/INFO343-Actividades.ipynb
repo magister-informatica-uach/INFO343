{
 "cells": [
  {
   "cell_type": "markdown",
   "metadata": {},
   "source": [
    "## <h1 align=\"center\">Actividad: Agrupar datos textuales con el Modelo de Tópicos y el algoritmo Latent Dirichlet Allocation (LDA)</h3>"
   ]
  },
  {
   "cell_type": "markdown",
   "metadata": {},
   "source": [
    "<div style=\"border: 2px solid #1c75c8; background-color: #c5ddf6;\">\n",
    "<h2> Preámbulo</h2>\n",
    "<p> Esta actividad se inspira de ejercicios disponibles en los recursos siguientes:<p>\n",
    "<ul>\n",
    "    <li>Biblioteca <a href=\"http://scikit-learn.org/stable/install.html/\">SciKit-learn</a> de Python</li>\n",
    "    <li>Código disponible en  <a href=\"https://github.com/lda-project/lda/\">lda-project</a></li>\n",
    "    <li>Material elaborado por el Prof. Matthieu Vernier</li>\n",
    "</ul>\n",
    "<p> La actividad requiere el uso de Python 3.x y <a href=\"http://jupyter.org/install\">Jupyter Notebook</a>. El código entregado fue probado con Python 3.7.3. Para saber cuál versión de Python usted está utilizando, ejecutar la celda siguiente (está información es importante cuando se necesitará instalar nuevos paquetes.)\n",
    "</p>\n",
    "</div>"
   ]
  },
  {
   "cell_type": "code",
   "execution_count": 1,
   "metadata": {},
   "outputs": [
    {
     "name": "stdout",
     "output_type": "stream",
     "text": [
      "3.8.8 (default, Apr 13 2021, 15:08:03) [MSC v.1916 64 bit (AMD64)]\n"
     ]
    }
   ],
   "source": [
    "import sys\n",
    "print(sys.version)"
   ]
  },
  {
   "cell_type": "markdown",
   "metadata": {},
   "source": [
    "\n",
    "<div style=\"border: 2px solid #D24747; background-color:#F8B4B4\">\n",
    "<h2>Objetivos de la actividad</h2>\n",
    "<p>El <b>objetivo general</b> de esta actividad consiste en  explorar la estructura oculta de un conjunto de datos textuales.</p>\n",
    "<p> Comenzaremos por utilizar un  algoritmo de clustering tradicional como Kmeans para explorar datos textuales, considerando la medida tf-idf por cada término presente en cada texto, para caracterizar los textos y construir distancias entre ellos.</p>\n",
    "<p>En una segunda fase utilizaremos el <a href=\"https://drive.google.com/open?id=1rSQPJvRVj0V_IChzspQMRPNwlDTkHYHp\"> Modelo Probabilista De Tópicos </a> para descubrir tópicos en los textos. Para ello se utilizará el algoritmo de asignación de tópicos latentes conocido como <a href= \"https://drive.google.com/open?id=1BobImO3192hifZPLXowd14gryVAUzBPW\">Latent Dirichlet Allocation (LDA)</a>. El enfoque es probabilista, por lo que el resultado del algoritmo es descubrir tópicos en los textos (el número de tópicos es definido por el analista) y asignar una distribución de probabilidad de tópicos en cada texto.</p>  Dependiendo del tamaño de los textos, es también posible agruparlos de acuerdo al tópico con mayor representación en cada uno, lo que permitirá comparar esta metodología con los algoritmos de clustering clásicos.</p> </div>\n",
    "    \n",
    "  "
   ]
  },
  {
   "cell_type": "markdown",
   "metadata": {},
   "source": [
    "<div style=\"border: 2px solid #D24747; background-color:#F8B4B4\">\n",
    "<p>Utilizaremos las 100 primeras noticias de un conjunto de datos provenientes del periódico El Dinamo.</p>   \n",
    "<p>El primer paso es la lectura de datos: </p></div>"
   ]
  },
  {
   "cell_type": "code",
   "execution_count": 3,
   "metadata": {},
   "outputs": [
    {
     "data": {
      "text/html": [
       "<div>\n",
       "<style scoped>\n",
       "    .dataframe tbody tr th:only-of-type {\n",
       "        vertical-align: middle;\n",
       "    }\n",
       "\n",
       "    .dataframe tbody tr th {\n",
       "        vertical-align: top;\n",
       "    }\n",
       "\n",
       "    .dataframe thead th {\n",
       "        text-align: right;\n",
       "    }\n",
       "</style>\n",
       "<table border=\"1\" class=\"dataframe\">\n",
       "  <thead>\n",
       "    <tr style=\"text-align: right;\">\n",
       "      <th></th>\n",
       "      <th>Unnamed: 0</th>\n",
       "      <th>id_news</th>\n",
       "      <th>country</th>\n",
       "      <th>media_outlet</th>\n",
       "      <th>url</th>\n",
       "      <th>title</th>\n",
       "      <th>text</th>\n",
       "      <th>date</th>\n",
       "      <th>search</th>\n",
       "    </tr>\n",
       "  </thead>\n",
       "  <tbody>\n",
       "    <tr>\n",
       "      <th>0</th>\n",
       "      <td>0</td>\n",
       "      <td>17785718.0</td>\n",
       "      <td>chile</td>\n",
       "      <td>emol</td>\n",
       "      <td>https://www.emol.com/noticias/Autos/2021/02/24...</td>\n",
       "      <td>Estudio advierte que la contaminación acústica...</td>\n",
       "      <td>La prestigiosa revista estadounidense  The Atl...</td>\n",
       "      <td>2021-02-25</td>\n",
       "      <td>contaminación acústica</td>\n",
       "    </tr>\n",
       "    <tr>\n",
       "      <th>1</th>\n",
       "      <td>1</td>\n",
       "      <td>22416427.0</td>\n",
       "      <td>chile</td>\n",
       "      <td>laestrelladechiloe</td>\n",
       "      <td>https://www.laestrellachiloe.cl/impresa/2021/0...</td>\n",
       "      <td>La contaminación acústica</td>\n",
       "      <td>La contaminación acústica, según la Organizaci...</td>\n",
       "      <td>2021-06-15</td>\n",
       "      <td>contaminación acústica</td>\n",
       "    </tr>\n",
       "    <tr>\n",
       "      <th>2</th>\n",
       "      <td>2</td>\n",
       "      <td>261700.0</td>\n",
       "      <td>chile</td>\n",
       "      <td>biobiochile</td>\n",
       "      <td>https://www.biobiochile.cl/noticias/nacional/r...</td>\n",
       "      <td>Justicia ordena al municipio de Concepción fis...</td>\n",
       "      <td>La Municipalidad de Concepción deberá fiscaliz...</td>\n",
       "      <td>2020-07-02</td>\n",
       "      <td>contaminación acústica</td>\n",
       "    </tr>\n",
       "    <tr>\n",
       "      <th>3</th>\n",
       "      <td>3</td>\n",
       "      <td>22330373.0</td>\n",
       "      <td>chile</td>\n",
       "      <td>elllanquihue</td>\n",
       "      <td>https://www.ellanquihue.cl/impresa/2021/07/07/...</td>\n",
       "      <td>Contaminación acústica</td>\n",
       "      <td>La contaminación acústica, según la Organizaci...</td>\n",
       "      <td>2021-07-07</td>\n",
       "      <td>contaminación acústica</td>\n",
       "    </tr>\n",
       "    <tr>\n",
       "      <th>4</th>\n",
       "      <td>4</td>\n",
       "      <td>13871464.0</td>\n",
       "      <td>chile</td>\n",
       "      <td>emol</td>\n",
       "      <td>https://www.emol.com/noticias/Nacional/2018/11...</td>\n",
       "      <td>Los siete puntos estratégicos de Santiago que ...</td>\n",
       "      <td>SANTIAGO.- El  Ministerio del Medio Ambiente  ...</td>\n",
       "      <td>2018-11-21</td>\n",
       "      <td>contaminación acústica</td>\n",
       "    </tr>\n",
       "  </tbody>\n",
       "</table>\n",
       "</div>"
      ],
      "text/plain": [
       "   Unnamed: 0     id_news country        media_outlet  \\\n",
       "0           0  17785718.0   chile                emol   \n",
       "1           1  22416427.0   chile  laestrelladechiloe   \n",
       "2           2    261700.0   chile         biobiochile   \n",
       "3           3  22330373.0   chile        elllanquihue   \n",
       "4           4  13871464.0   chile                emol   \n",
       "\n",
       "                                                 url  \\\n",
       "0  https://www.emol.com/noticias/Autos/2021/02/24...   \n",
       "1  https://www.laestrellachiloe.cl/impresa/2021/0...   \n",
       "2  https://www.biobiochile.cl/noticias/nacional/r...   \n",
       "3  https://www.ellanquihue.cl/impresa/2021/07/07/...   \n",
       "4  https://www.emol.com/noticias/Nacional/2018/11...   \n",
       "\n",
       "                                               title  \\\n",
       "0  Estudio advierte que la contaminación acústica...   \n",
       "1                          La contaminación acústica   \n",
       "2  Justicia ordena al municipio de Concepción fis...   \n",
       "3                             Contaminación acústica   \n",
       "4  Los siete puntos estratégicos de Santiago que ...   \n",
       "\n",
       "                                                text        date  \\\n",
       "0  La prestigiosa revista estadounidense  The Atl...  2021-02-25   \n",
       "1  La contaminación acústica, según la Organizaci...  2021-06-15   \n",
       "2  La Municipalidad de Concepción deberá fiscaliz...  2020-07-02   \n",
       "3  La contaminación acústica, según la Organizaci...  2021-07-07   \n",
       "4  SANTIAGO.- El  Ministerio del Medio Ambiente  ...  2018-11-21   \n",
       "\n",
       "                   search  \n",
       "0  contaminación acústica  \n",
       "1  contaminación acústica  \n",
       "2  contaminación acústica  \n",
       "3  contaminación acústica  \n",
       "4  contaminación acústica  "
      ]
     },
     "execution_count": 3,
     "metadata": {},
     "output_type": "execute_result"
    }
   ],
   "source": [
    "import pandas as pd\n",
    "#from pandasql import sqldf #para utilizar una síntaxis SQL para consultar nuestros datos\n",
    "\n",
    "dataset=\"contaminaciónacústica_chile_2018-01-01_2021-12-31.csv\"\n",
    "df = pd.read_csv(dataset)\n",
    "df[:5]"
   ]
  },
  {
   "cell_type": "code",
   "execution_count": 6,
   "metadata": {},
   "outputs": [
    {
     "name": "stdout",
     "output_type": "stream",
     "text": [
      "Collecting spacy\n",
      "  Downloading spacy-3.3.0-cp38-cp38-win_amd64.whl (12.0 MB)\n",
      "Requirement already satisfied: tqdm<5.0.0,>=4.38.0 in c:\\users\\56994\\anaconda3\\lib\\site-packages (from spacy) (4.59.0)\n",
      "Collecting pathy>=0.3.5\n",
      "  Downloading pathy-0.6.1-py3-none-any.whl (42 kB)\n",
      "Requirement already satisfied: setuptools in c:\\users\\56994\\anaconda3\\lib\\site-packages (from spacy) (52.0.0.post20210125)\n",
      "Collecting thinc<8.1.0,>=8.0.14\n",
      "  Downloading thinc-8.0.16-cp38-cp38-win_amd64.whl (1.1 MB)\n",
      "Collecting spacy-legacy<3.1.0,>=3.0.9\n",
      "  Downloading spacy_legacy-3.0.9-py2.py3-none-any.whl (20 kB)\n",
      "Collecting wasabi<1.1.0,>=0.9.1\n",
      "  Downloading wasabi-0.9.1-py3-none-any.whl (26 kB)\n",
      "Requirement already satisfied: jinja2 in c:\\users\\56994\\anaconda3\\lib\\site-packages (from spacy) (2.11.3)\n",
      "Collecting cymem<2.1.0,>=2.0.2\n",
      "  Downloading cymem-2.0.6-cp38-cp38-win_amd64.whl (36 kB)\n",
      "Collecting preshed<3.1.0,>=3.0.2\n",
      "  Downloading preshed-3.0.6-cp38-cp38-win_amd64.whl (113 kB)\n",
      "Requirement already satisfied: packaging>=20.0 in c:\\users\\56994\\anaconda3\\lib\\site-packages (from spacy) (20.9)\n",
      "Requirement already satisfied: numpy>=1.15.0 in c:\\users\\56994\\anaconda3\\lib\\site-packages (from spacy) (1.20.1)\n",
      "Collecting blis<0.8.0,>=0.4.0\n",
      "  Downloading blis-0.7.7-cp38-cp38-win_amd64.whl (6.6 MB)\n",
      "Requirement already satisfied: requests<3.0.0,>=2.13.0 in c:\\users\\56994\\anaconda3\\lib\\site-packages (from spacy) (2.25.1)\n",
      "Collecting typer<0.5.0,>=0.3.0\n",
      "  Downloading typer-0.4.1-py3-none-any.whl (27 kB)\n",
      "Collecting srsly<3.0.0,>=2.4.3\n",
      "  Downloading srsly-2.4.3-cp38-cp38-win_amd64.whl (448 kB)\n",
      "Collecting langcodes<4.0.0,>=3.2.0\n",
      "  Downloading langcodes-3.3.0-py3-none-any.whl (181 kB)\n",
      "Collecting murmurhash<1.1.0,>=0.28.0\n",
      "  Downloading murmurhash-1.0.7-cp38-cp38-win_amd64.whl (18 kB)\n",
      "Collecting catalogue<2.1.0,>=2.0.6\n",
      "  Downloading catalogue-2.0.7-py3-none-any.whl (17 kB)\n",
      "Collecting pydantic!=1.8,!=1.8.1,<1.9.0,>=1.7.4\n",
      "  Downloading pydantic-1.8.2-cp38-cp38-win_amd64.whl (2.0 MB)\n",
      "Collecting spacy-loggers<2.0.0,>=1.0.0\n",
      "  Downloading spacy_loggers-1.0.2-py3-none-any.whl (7.2 kB)\n",
      "Requirement already satisfied: pyparsing>=2.0.2 in c:\\users\\56994\\anaconda3\\lib\\site-packages (from packaging>=20.0->spacy) (2.4.7)\n",
      "Collecting smart-open<6.0.0,>=5.0.0\n",
      "  Downloading smart_open-5.2.1-py3-none-any.whl (58 kB)\n",
      "Requirement already satisfied: typing-extensions>=3.7.4.3 in c:\\users\\56994\\anaconda3\\lib\\site-packages (from pydantic!=1.8,!=1.8.1,<1.9.0,>=1.7.4->spacy) (3.7.4.3)\n",
      "Requirement already satisfied: certifi>=2017.4.17 in c:\\users\\56994\\anaconda3\\lib\\site-packages (from requests<3.0.0,>=2.13.0->spacy) (2020.12.5)\n",
      "Requirement already satisfied: chardet<5,>=3.0.2 in c:\\users\\56994\\anaconda3\\lib\\site-packages (from requests<3.0.0,>=2.13.0->spacy) (4.0.0)\n",
      "Requirement already satisfied: idna<3,>=2.5 in c:\\users\\56994\\anaconda3\\lib\\site-packages (from requests<3.0.0,>=2.13.0->spacy) (2.10)\n",
      "Requirement already satisfied: urllib3<1.27,>=1.21.1 in c:\\users\\56994\\anaconda3\\lib\\site-packages (from requests<3.0.0,>=2.13.0->spacy) (1.26.4)\n",
      "Requirement already satisfied: click<9.0.0,>=7.1.1 in c:\\users\\56994\\anaconda3\\lib\\site-packages (from typer<0.5.0,>=0.3.0->spacy) (7.1.2)\n",
      "Requirement already satisfied: MarkupSafe>=0.23 in c:\\users\\56994\\anaconda3\\lib\\site-packages (from jinja2->spacy) (1.1.1)\n",
      "Installing collected packages: murmurhash, cymem, catalogue, wasabi, typer, srsly, smart-open, pydantic, preshed, blis, thinc, spacy-loggers, spacy-legacy, pathy, langcodes, spacy\n",
      "Successfully installed blis-0.7.7 catalogue-2.0.7 cymem-2.0.6 langcodes-3.3.0 murmurhash-1.0.7 pathy-0.6.1 preshed-3.0.6 pydantic-1.8.2 smart-open-5.2.1 spacy-3.3.0 spacy-legacy-3.0.9 spacy-loggers-1.0.2 srsly-2.4.3 thinc-8.0.16 typer-0.4.1 wasabi-0.9.1\n",
      "Collecting es-core-news-md==3.3.0\n",
      "  Downloading https://github.com/explosion/spacy-models/releases/download/es_core_news_md-3.3.0/es_core_news_md-3.3.0-py3-none-any.whl (42.3 MB)\n",
      "Requirement already satisfied: spacy<3.4.0,>=3.3.0.dev0 in c:\\users\\56994\\anaconda3\\lib\\site-packages (from es-core-news-md==3.3.0) (3.3.0)\n",
      "Requirement already satisfied: pydantic!=1.8,!=1.8.1,<1.9.0,>=1.7.4 in c:\\users\\56994\\anaconda3\\lib\\site-packages (from spacy<3.4.0,>=3.3.0.dev0->es-core-news-md==3.3.0) (1.8.2)\n",
      "Requirement already satisfied: spacy-loggers<2.0.0,>=1.0.0 in c:\\users\\56994\\anaconda3\\lib\\site-packages (from spacy<3.4.0,>=3.3.0.dev0->es-core-news-md==3.3.0) (1.0.2)\n",
      "Requirement already satisfied: setuptools in c:\\users\\56994\\anaconda3\\lib\\site-packages (from spacy<3.4.0,>=3.3.0.dev0->es-core-news-md==3.3.0) (52.0.0.post20210125)\n",
      "Requirement already satisfied: packaging>=20.0 in c:\\users\\56994\\anaconda3\\lib\\site-packages (from spacy<3.4.0,>=3.3.0.dev0->es-core-news-md==3.3.0) (20.9)\n",
      "Requirement already satisfied: preshed<3.1.0,>=3.0.2 in c:\\users\\56994\\anaconda3\\lib\\site-packages (from spacy<3.4.0,>=3.3.0.dev0->es-core-news-md==3.3.0) (3.0.6)\n",
      "Requirement already satisfied: spacy-legacy<3.1.0,>=3.0.9 in c:\\users\\56994\\anaconda3\\lib\\site-packages (from spacy<3.4.0,>=3.3.0.dev0->es-core-news-md==3.3.0) (3.0.9)\n",
      "Requirement already satisfied: catalogue<2.1.0,>=2.0.6 in c:\\users\\56994\\anaconda3\\lib\\site-packages (from spacy<3.4.0,>=3.3.0.dev0->es-core-news-md==3.3.0) (2.0.7)\n",
      "Requirement already satisfied: murmurhash<1.1.0,>=0.28.0 in c:\\users\\56994\\anaconda3\\lib\\site-packages (from spacy<3.4.0,>=3.3.0.dev0->es-core-news-md==3.3.0) (1.0.7)\n",
      "Requirement already satisfied: requests<3.0.0,>=2.13.0 in c:\\users\\56994\\anaconda3\\lib\\site-packages (from spacy<3.4.0,>=3.3.0.dev0->es-core-news-md==3.3.0) (2.25.1)\n",
      "Requirement already satisfied: blis<0.8.0,>=0.4.0 in c:\\users\\56994\\anaconda3\\lib\\site-packages (from spacy<3.4.0,>=3.3.0.dev0->es-core-news-md==3.3.0) (0.7.7)\n",
      "Requirement already satisfied: thinc<8.1.0,>=8.0.14 in c:\\users\\56994\\anaconda3\\lib\\site-packages (from spacy<3.4.0,>=3.3.0.dev0->es-core-news-md==3.3.0) (8.0.16)\n",
      "Requirement already satisfied: tqdm<5.0.0,>=4.38.0 in c:\\users\\56994\\anaconda3\\lib\\site-packages (from spacy<3.4.0,>=3.3.0.dev0->es-core-news-md==3.3.0) (4.59.0)\n",
      "Requirement already satisfied: numpy>=1.15.0 in c:\\users\\56994\\anaconda3\\lib\\site-packages (from spacy<3.4.0,>=3.3.0.dev0->es-core-news-md==3.3.0) (1.20.1)\n",
      "Requirement already satisfied: srsly<3.0.0,>=2.4.3 in c:\\users\\56994\\anaconda3\\lib\\site-packages (from spacy<3.4.0,>=3.3.0.dev0->es-core-news-md==3.3.0) (2.4.3)\n",
      "Requirement already satisfied: cymem<2.1.0,>=2.0.2 in c:\\users\\56994\\anaconda3\\lib\\site-packages (from spacy<3.4.0,>=3.3.0.dev0->es-core-news-md==3.3.0) (2.0.6)\n",
      "Requirement already satisfied: typer<0.5.0,>=0.3.0 in c:\\users\\56994\\anaconda3\\lib\\site-packages (from spacy<3.4.0,>=3.3.0.dev0->es-core-news-md==3.3.0) (0.4.1)\n",
      "Requirement already satisfied: pathy>=0.3.5 in c:\\users\\56994\\anaconda3\\lib\\site-packages (from spacy<3.4.0,>=3.3.0.dev0->es-core-news-md==3.3.0) (0.6.1)\n",
      "Requirement already satisfied: wasabi<1.1.0,>=0.9.1 in c:\\users\\56994\\anaconda3\\lib\\site-packages (from spacy<3.4.0,>=3.3.0.dev0->es-core-news-md==3.3.0) (0.9.1)\n",
      "Requirement already satisfied: jinja2 in c:\\users\\56994\\anaconda3\\lib\\site-packages (from spacy<3.4.0,>=3.3.0.dev0->es-core-news-md==3.3.0) (2.11.3)\n",
      "Requirement already satisfied: langcodes<4.0.0,>=3.2.0 in c:\\users\\56994\\anaconda3\\lib\\site-packages (from spacy<3.4.0,>=3.3.0.dev0->es-core-news-md==3.3.0) (3.3.0)\n",
      "Requirement already satisfied: pyparsing>=2.0.2 in c:\\users\\56994\\anaconda3\\lib\\site-packages (from packaging>=20.0->spacy<3.4.0,>=3.3.0.dev0->es-core-news-md==3.3.0) (2.4.7)\n",
      "Requirement already satisfied: smart-open<6.0.0,>=5.0.0 in c:\\users\\56994\\anaconda3\\lib\\site-packages (from pathy>=0.3.5->spacy<3.4.0,>=3.3.0.dev0->es-core-news-md==3.3.0) (5.2.1)\n",
      "Requirement already satisfied: typing-extensions>=3.7.4.3 in c:\\users\\56994\\anaconda3\\lib\\site-packages (from pydantic!=1.8,!=1.8.1,<1.9.0,>=1.7.4->spacy<3.4.0,>=3.3.0.dev0->es-core-news-md==3.3.0) (3.7.4.3)\n",
      "Requirement already satisfied: chardet<5,>=3.0.2 in c:\\users\\56994\\anaconda3\\lib\\site-packages (from requests<3.0.0,>=2.13.0->spacy<3.4.0,>=3.3.0.dev0->es-core-news-md==3.3.0) (4.0.0)\n",
      "Requirement already satisfied: urllib3<1.27,>=1.21.1 in c:\\users\\56994\\anaconda3\\lib\\site-packages (from requests<3.0.0,>=2.13.0->spacy<3.4.0,>=3.3.0.dev0->es-core-news-md==3.3.0) (1.26.4)\n",
      "Requirement already satisfied: certifi>=2017.4.17 in c:\\users\\56994\\anaconda3\\lib\\site-packages (from requests<3.0.0,>=2.13.0->spacy<3.4.0,>=3.3.0.dev0->es-core-news-md==3.3.0) (2020.12.5)\n",
      "Requirement already satisfied: idna<3,>=2.5 in c:\\users\\56994\\anaconda3\\lib\\site-packages (from requests<3.0.0,>=2.13.0->spacy<3.4.0,>=3.3.0.dev0->es-core-news-md==3.3.0) (2.10)\n",
      "Requirement already satisfied: click<9.0.0,>=7.1.1 in c:\\users\\56994\\anaconda3\\lib\\site-packages (from typer<0.5.0,>=0.3.0->spacy<3.4.0,>=3.3.0.dev0->es-core-news-md==3.3.0) (7.1.2)\n",
      "Requirement already satisfied: MarkupSafe>=0.23 in c:\\users\\56994\\anaconda3\\lib\\site-packages (from jinja2->spacy<3.4.0,>=3.3.0.dev0->es-core-news-md==3.3.0) (1.1.1)\n",
      "Installing collected packages: es-core-news-md\n",
      "Successfully installed es-core-news-md-3.3.0\n",
      "[+] Download and installation successful\n",
      "You can now load the package via spacy.load('es_core_news_md')\n"
     ]
    }
   ],
   "source": [
    "!pip install spacy\n",
    "!python -m spacy download es_core_news_md"
   ]
  },
  {
   "cell_type": "code",
   "execution_count": 4,
   "metadata": {
    "scrolled": true
   },
   "outputs": [
    {
     "data": {
      "text/plain": [
       "0    La prestigiosa revista estadounidense  The Atl...\n",
       "1    La contaminación acústica, según la Organizaci...\n",
       "2    La Municipalidad de Concepción deberá fiscaliz...\n",
       "3    La contaminación acústica, según la Organizaci...\n",
       "4    SANTIAGO.- El  Ministerio del Medio Ambiente  ...\n",
       "5    La ministra del Medio Ambiente, Carolina Schmi...\n",
       "6    La contaminación acústica es el enemigo invisi...\n",
       "7    BOSTON.- El ruido en las ciudades es algo que ...\n",
       "8    La contaminación acústica influye en la calida...\n",
       "9     Haileen Piedra Coordinadora de Marketing Mide...\n",
       "Name: text, dtype: object"
      ]
     },
     "execution_count": 4,
     "metadata": {},
     "output_type": "execute_result"
    }
   ],
   "source": [
    "noticias = df[:100].text\n",
    "len(noticias)\n",
    "noticias[:10]"
   ]
  },
  {
   "cell_type": "code",
   "execution_count": 8,
   "metadata": {},
   "outputs": [],
   "source": [
    "import spacy\n",
    "nlp = spacy.load(\"es_core_news_md\")\n",
    "\n",
    "def spacy_tokenizer(texto):\n",
    "    # crea lista de tokens a partir de un texto\n",
    "    mytokens = []\n",
    "    doc = nlp(texto.lower().strip())\n",
    "    for token in doc:\n",
    "        if not token.is_stop and not token.is_punct and not token.is_space and not token.is_digit and not token.like_num:\n",
    "            mytokens.append(token.lemma_)\n",
    "    return mytokens\n",
    "\n",
    "\n"
   ]
  },
  {
   "cell_type": "code",
   "execution_count": 9,
   "metadata": {},
   "outputs": [],
   "source": [
    "#Utilizando Kmeans y tf-idf para realizar un primer agrupamiento de las noticias\n",
    "import re\n",
    "from sklearn.feature_extraction.text import TfidfVectorizer, CountVectorizer\n",
    "from sklearn.cluster import KMeans\n",
    "from sklearn.metrics import adjusted_rand_score\n",
    "\n",
    "myStopWords=['a','e','o','u','y',' ','  ','   ','    ']\n",
    "vectorizer = TfidfVectorizer(tokenizer=spacy_tokenizer, stop_words=myStopWords, ngram_range=(1,1))\n",
    "\n",
    "X=vectorizer.fit_transform(noticias) \n",
    "X_term = vectorizer.get_feature_names()\n",
    "\n"
   ]
  },
  {
   "cell_type": "code",
   "execution_count": 10,
   "metadata": {},
   "outputs": [
    {
     "name": "stdout",
     "output_type": "stream",
     "text": [
      "['$', '+', '-al', '-aunque', '-como', '-de', '-denunciado', '-en', '-es', '-frontera', '-integrado', '-junto', '-mantener', '-moz-background-size', '-no', '-o-background-size', '-plantear', '-por', '-producida', '-puntualizó-']\n",
      "(88, 6269)\n",
      "0    La prestigiosa revista estadounidense  The Atl...\n",
      "Name: text, dtype: object\n",
      "  (0, 5616)\t0.06420881539850011\n",
      "  (0, 5325)\t0.06420881539850011\n",
      "  (0, 4719)\t0.0255084160617998\n",
      "  (0, 2272)\t0.0413832284275956\n",
      "  (0, 5058)\t0.05877987306330863\n",
      "  (0, 2803)\t0.03210239020548982\n",
      "  (0, 1882)\t0.06420881539850011\n",
      "  (0, 1236)\t0.054927977176394326\n",
      "  (0, 4000)\t0.06420881539850011\n",
      "  (0, 5687)\t0.06420881539850011\n",
      "  (0, 1859)\t0.02986563302377793\n",
      "  (0, 4401)\t0.03914647124588371\n",
      "  (0, 2251)\t0.06420881539850011\n",
      "  (0, 2021)\t0.06420881539850011\n",
      "  (0, 5661)\t0.03478925428390558\n",
      "  (0, 4062)\t0.0340653255891039\n",
      "  (0, 2349)\t0.037230434051296744\n",
      "  (0, 3406)\t0.05194021460859401\n",
      "  (0, 5501)\t0.054927977176394326\n",
      "  (0, 6151)\t0.06420881539850011\n",
      "  (0, 2139)\t0.054927977176394326\n",
      "  (0, 3796)\t0.033378538164382444\n",
      "  (0, 2805)\t0.023129368281901222\n",
      "  (0, 2154)\t0.027949595829190963\n",
      "  (0, 5247)\t0.04949903484120284\n",
      "  :\t:\n",
      "  (0, 4438)\t0.13877620969140733\n",
      "  (0, 664)\t0.09899806968240568\n",
      "  (0, 989)\t0.07829294249176742\n",
      "  (0, 273)\t0.129428038724725\n",
      "  (0, 1201)\t0.080020343610895\n",
      "  (0, 222)\t0.054162855045113055\n",
      "  (0, 1481)\t0.053557677113299\n",
      "  (0, 4518)\t0.05194021460859401\n",
      "  (0, 5740)\t0.02986563302377793\n",
      "  (0, 5870)\t0.045647138954288555\n",
      "  (0, 68)\t0.06420881539850011\n",
      "  (0, 4870)\t0.024097699942276667\n",
      "  (0, 5275)\t0.09817579859897888\n",
      "  (0, 488)\t0.04743504675695689\n",
      "  (0, 5174)\t0.05877987306330863\n",
      "  (0, 6150)\t0.06420881539850011\n",
      "  (0, 1378)\t0.04743504675695689\n",
      "  (0, 1736)\t0.037230434051296744\n",
      "  (0, 2140)\t0.05877987306330863\n",
      "  (0, 438)\t0.03636630073218277\n",
      "  (0, 641)\t0.06420881539850011\n",
      "  (0, 5683)\t0.054927977176394326\n",
      "  (0, 2409)\t0.05877987306330863\n",
      "  (0, 5175)\t0.045647138954288555\n",
      "  (0, 4686)\t0.05877987306330863\n",
      "88\n",
      "[[12.02187097]\n",
      " [10.78591215]\n",
      " [ 8.54791717]\n",
      " [11.26535863]\n",
      " [11.26450545]\n",
      " [10.24530107]\n",
      " [ 7.10074596]\n",
      " [10.20701642]\n",
      " [ 7.4563244 ]\n",
      " [11.66256871]]\n"
     ]
    }
   ],
   "source": [
    "import numpy as np\n",
    "print(X_term[:20])\n",
    "print(X.shape)\n",
    "print(noticias[:1])\n",
    "print(X[:1])\n",
    "sumTextos = np.sum(X, axis=1)\n",
    "print(len(sumTextos))\n",
    "print(sumTextos[:10])"
   ]
  },
  {
   "cell_type": "code",
   "execution_count": 12,
   "metadata": {},
   "outputs": [
    {
     "data": {
      "image/png": "[encoded data removed]",
      "text/plain": [
       "<Figure size 432x288 with 1 Axes>"
      ]
     },
     "metadata": {
      "needs_background": "light"
     },
     "output_type": "display_data"
    }
   ],
   "source": [
    "import matplotlib\n",
    "import numpy as np\n",
    "import matplotlib.pyplot as plt\n",
    "\n",
    "\n",
    "num_k = range(1, 10)\n",
    "inertias = []\n",
    "\n",
    "for k in num_k:\n",
    "    # Create a KMeans instance with k clusters: model\n",
    "    model = KMeans(n_clusters=k, n_init=10)\n",
    "\n",
    "    # Fit model to samples\n",
    "    model.fit(X)\n",
    "\n",
    "    # Append the inertia to the list of inertias\n",
    "    inertias.append(model.inertia_)\n",
    "\n",
    "\n",
    "# Plot ks vs inertias\n",
    "plt.plot(num_k, inertias, '-o')\n",
    "plt.xlabel('number of clusters, k')\n",
    "plt.ylabel('inertia')\n",
    "plt.xticks(num_k)\n",
    "plt.show()"
   ]
  },
  {
   "cell_type": "markdown",
   "metadata": {},
   "source": [
    "<div style=\"border: 2px solid #1c75c8; background-color: #c5ddf6;\">\n",
    "<p>Pregunta Nº1: Explore las clases TfidfVectorizer, CountVectorizer. ¿Qué rol cumplen? ¿Qué tratamiento premilinar de textos se ha hecho en este caso? ¿Qué rol cumple n_gram?</p>\n",
    "<p>Pregunta Nº2: A partir del gráfico, justifique el número de clusters para estos datos.</p>\n",
    "</div>"
   ]
  },
  {
   "cell_type": "code",
   "execution_count": 13,
   "metadata": {},
   "outputs": [
    {
     "name": "stdout",
     "output_type": "stream",
     "text": [
      "Top terms per cluster:\n",
      "Cluster 0: ballena-especie-delfín-agua-marino-zona-cetáceo-urbano-población-hong-empresa-mamífero-proyecto-ciudad-kong\n",
      "Cluster 1: ruido-decibel-nivel-ciudad-salud-ambiente-contaminación-db-persona-ambiental-fuente-acústico-oms-sonido-noche\n",
      "Cluster 2: vecino-parque-proyecto-eléctrico-bus-camión-empresa-vara-sector-transporte-obra-=-santiago-sur-senda\n"
     ]
    }
   ],
   "source": [
    "from matplotlib.pylab import hist, show\n",
    "true_k = 3\n",
    "model = KMeans(n_clusters=true_k, init='k-means++', max_iter=100, n_init=10)\n",
    "model.fit(X)\n",
    "print(\"Top terms per cluster:\")\n",
    "order_centroids = model.cluster_centers_.argsort()[:, ::-1]\n",
    "terms = vectorizer.get_feature_names()\n",
    "\n",
    "for i in range(true_k):\n",
    "    cluster_words = np.array(terms)[order_centroids[i, :15]]\n",
    "    print('Cluster {}: {}'.format(i, '-'.join(cluster_words)))\n",
    "\n",
    "\n",
    "\n",
    "                                    "
   ]
  },
  {
   "cell_type": "code",
   "execution_count": 9,
   "metadata": {},
   "outputs": [
    {
     "data": {
      "image/png": "[encoded data removed]",
      "text/plain": [
       "<Figure size 432x288 with 1 Axes>"
      ]
     },
     "metadata": {
      "needs_background": "light"
     },
     "output_type": "display_data"
    },
    {
     "data": {
      "image/png": "[encoded data removed]",
      "text/plain": [
       "<Figure size 432x288 with 1 Axes>"
      ]
     },
     "metadata": {
      "needs_background": "light"
     },
     "output_type": "display_data"
    }
   ],
   "source": [
    "#Generando algunos gráficos de los resultados\n",
    "labels = model.predict(X)\n",
    "plt.scatter(range(100),labels,c=labels)\n",
    "show()\n",
    "hist(labels,bins=np.arange(-0.5,5.6,1),alpha=0.5,rwidth=0.9,density=True)\n",
    "show()"
   ]
  },
  {
   "cell_type": "markdown",
   "metadata": {},
   "source": [
    "<div style=\"border: 2px solid #1c75c8; background-color: #c5ddf6;\">\n",
    "<p>Pregunta Nº3:Explore diversos valores en los parámetros de n_init y max_iter. ¿tienen influencia en los resultados? ¿Por qué? Describa e interprete los resultados.</p></div>"
   ]
  },
  {
   "cell_type": "markdown",
   "metadata": {},
   "source": [
    "<div style=\"border: 2px solid #1c75c8; background-color: #F8B4B4\">\n",
    "<p>En lo que sigue se construye un modelo probabilista de tópicos, considerando de 1 a 9 tópicos (para comparar con Kmeans\n",
    " y el algoritmo LDA estimado con el <a href=\"https://drive.google.com/open?id=1AoCcmg91Y1yRwM_Ox4Nvf6PGSQ9TybpE\">, método de Bayes Variacional</a>, disponible como desarrollo en <a href=\"http://scikit-learn.org/stable/modules/generated/sklearn.decomposition.LatentDirichletAllocation.html\">sklearn-lda.</a></p> \n",
    "Previo a ello se utiliza la clase CountVectorizer y su función fit_transform que permite construir una matriz tf (DTM, Document-Term Matrix) que contiene la frecuencia de aparición de cada término del vocabulario en cada texto analizado. En la definición de la clase se especifica que:\n",
    "<ol>\n",
    "    <li>los términos que  aparecen sólo una vez en algún texto no serán considerados en el vocabulario (min_df=2)</li>\n",
    "    <li> los términos que  aparecen en mas del 95% de los textos no serán considerados en el vocabulario (max_df=0.95)</li>\n",
    "    <li> se considera adicionalmente un conjunto de stop words construido ad-hoc, posible de refinar</li>\n",
    "</ol></div>"
   ]
  },
  {
   "cell_type": "code",
   "execution_count": 14,
   "metadata": {},
   "outputs": [
    {
     "data": {
      "image/png": "[encoded data removed]",
      "text/plain": [
       "<Figure size 432x288 with 1 Axes>"
      ]
     },
     "metadata": {
      "needs_background": "light"
     },
     "output_type": "display_data"
    }
   ],
   "source": [
    "#Aplicando Modelos Probabilistas de Tópicos y LDA\n",
    "from sklearn.decomposition import LatentDirichletAllocation\n",
    "\n",
    "def print_top_words(model, feature_names, n_top_words):\n",
    "    for topic_idx, topic in enumerate(model.components_):\n",
    "        message = \"Topic #%d: \" % topic_idx\n",
    "        message += \" \".join([feature_names[i]\n",
    "                             for i in topic.argsort()[:-n_top_words - 1:-1]])\n",
    "        print(message)\n",
    "    print()\n",
    "    \n",
    "myStopWords=['a','e','o','u','y',' ','  ','   ','   ','    ']\n",
    "tf_vectorizer = CountVectorizer(max_df=0.95, min_df=2,\n",
    "                                stop_words=myStopWords,tokenizer=spacy_tokenizer, ngram_range=(1,1))\n",
    "tf = tf_vectorizer.fit_transform(noticias)\n",
    "diccionario= tf_vectorizer.get_feature_names()\n",
    "\n",
    "\n",
    "perp = []\n",
    "for k in num_k:\n",
    "    #Estimación de LDA con Bayes Variacional\n",
    "    lda = LatentDirichletAllocation(n_components=k, max_iter=10,\n",
    "                                learning_method='online',\n",
    "                                learning_offset=50.,\n",
    "                                random_state=0)\n",
    "\n",
    "    lda.fit(tf)\n",
    "    #Cálculo de índice de ajuste de los datos\n",
    "    perp.append(lda.perplexity(tf))\n",
    "\n",
    "plt.plot(num_k, perp, '-o')\n",
    "plt.xlabel('number of topics, k')\n",
    "plt.ylabel('perplexity')\n",
    "plt.xticks(num_k)\n",
    "plt.show()\n",
    "\n",
    "#print(\"\\nTopics in LDA model:\")\n",
    "#print_top_words(lda, diccionario, 15)\n"
   ]
  },
  {
   "cell_type": "markdown",
   "metadata": {},
   "source": [
    "<div style=\"border: 2px solid #1c75c8; background-color: #c5ddf6;\">\n",
    "<p>Pregunta Nº4: Indage sobre la medida perplexity, ¿Cómo se interpreta el valor obtenido?\n",
    "</p></div>"
   ]
  },
  {
   "cell_type": "code",
   "execution_count": 20,
   "metadata": {},
   "outputs": [
    {
     "name": "stdout",
     "output_type": "stream",
     "text": [
      "[[9.96354848e-01 1.77183970e-03 1.87331215e-03]\n",
      " [9.96173814e-01 1.89389257e-03 1.93229369e-03]\n",
      " [9.91022517e-01 4.18837847e-03 4.78910484e-03]\n",
      " [9.96573295e-01 1.69848015e-03 1.72822508e-03]\n",
      " [9.96740543e-01 1.54385221e-03 1.71560519e-03]\n",
      " [8.80267746e-01 2.24649364e-03 1.17485761e-01]\n",
      " [8.02284350e-01 7.41388550e-03 1.90301765e-01]\n",
      " [9.94514309e-01 2.62666990e-03 2.85902077e-03]\n",
      " [8.85510984e-01 3.31031589e-02 8.13858568e-02]\n",
      " [9.96398788e-01 1.77953411e-03 1.82167791e-03]\n",
      " [9.96398788e-01 1.77953411e-03 1.82167791e-03]\n",
      " [3.16662833e-01 1.31371018e-03 6.82023456e-01]\n",
      " [5.35060837e-01 6.11178237e-03 4.58827381e-01]\n",
      " [3.61204519e-03 3.42269925e-03 9.92965256e-01]\n",
      " [9.96637738e-01 1.66979115e-03 1.69247038e-03]\n",
      " [3.61859585e-03 3.62260126e-03 9.92758803e-01]\n",
      " [4.48230642e-03 9.91028186e-01 4.48950807e-03]\n",
      " [2.71269319e-01 1.10282226e-02 7.17702458e-01]\n",
      " [9.92315700e-01 3.78129250e-03 3.90300767e-03]\n",
      " [9.92534328e-01 3.53145408e-03 3.93421800e-03]\n",
      " [2.86072801e-03 2.68794590e-03 9.94451326e-01]\n",
      " [9.97093859e-01 1.41188737e-03 1.49425323e-03]\n",
      " [9.94075037e-01 2.91442886e-03 3.01053380e-03]\n",
      " [9.25972549e-01 3.28377137e-03 7.07436796e-02]\n",
      " [4.12464237e-03 3.56285235e-03 9.92312505e-01]\n",
      " [3.32553291e-03 3.06210951e-03 9.93612358e-01]\n",
      " [9.94176006e-01 2.80963200e-03 3.01436233e-03]\n",
      " [9.94398213e-01 2.74986793e-03 2.85191906e-03]\n",
      " [2.29414699e-03 2.10327472e-03 9.95602578e-01]\n",
      " [9.92546571e-01 3.70570918e-03 3.74771943e-03]\n",
      " [2.59674403e-03 2.49123944e-03 9.94912017e-01]\n",
      " [9.94309875e-01 2.79680928e-03 2.89331524e-03]\n",
      " [9.98429914e-01 8.24111811e-04 7.45974518e-04]\n",
      " [8.85638964e-01 9.99906096e-02 1.43704265e-02]\n",
      " [2.52361554e-03 2.39824022e-03 9.95078144e-01]\n",
      " [9.94604254e-01 2.57877874e-03 2.81696725e-03]\n",
      " [9.95095248e-01 2.31623279e-03 2.58851922e-03]\n",
      " [1.79431735e-03 1.68461279e-03 9.96521070e-01]\n",
      " [9.95916347e-01 2.01708507e-03 2.06656824e-03]\n",
      " [3.06149054e-03 3.07519059e-03 9.93863319e-01]\n",
      " [9.95132375e-01 2.54723906e-03 2.32038560e-03]\n",
      " [9.94030142e-01 3.49521138e-03 2.47464689e-03]\n",
      " [9.93773042e-01 2.97337213e-03 3.25358608e-03]\n",
      " [9.95758514e-01 2.04718415e-03 2.19430153e-03]\n",
      " [2.44277863e-03 2.42751778e-03 9.95129704e-01]\n",
      " [9.94974534e-01 2.37144591e-03 2.65401985e-03]\n",
      " [8.01411653e-01 1.95792900e-01 2.79544686e-03]\n",
      " [9.95376777e-01 2.27936023e-03 2.34386239e-03]\n",
      " [9.94681858e-01 2.67186017e-03 2.64628188e-03]\n",
      " [6.45197697e-01 1.98234550e-03 3.52819957e-01]\n",
      " [1.95630658e-03 1.88771801e-03 9.96155975e-01]\n",
      " [9.95571413e-01 2.21473472e-03 2.21385204e-03]\n",
      " [9.11688555e-01 2.03066717e-03 8.62807779e-02]\n",
      " [9.96486502e-01 1.72887812e-03 1.78461971e-03]\n",
      " [9.96249658e-01 1.83303996e-03 1.91730244e-03]\n",
      " [9.96675132e-01 1.52911771e-03 1.79575052e-03]\n",
      " [9.96606617e-01 1.62157171e-03 1.77181172e-03]\n",
      " [9.96480832e-01 1.74941541e-03 1.76975274e-03]\n",
      " [9.96586616e-01 1.57270675e-03 1.84067764e-03]\n",
      " [9.96905631e-01 1.49857428e-03 1.59579458e-03]\n",
      " [1.16578597e-03 9.97688849e-01 1.14536481e-03]\n",
      " [9.96847196e-01 1.53286022e-03 1.61994349e-03]\n",
      " [1.87927488e-03 1.77252485e-03 9.96348200e-01]\n",
      " [9.97469270e-01 1.26158504e-03 1.26914544e-03]\n",
      " [8.58340690e-01 1.42474777e-03 1.40234562e-01]\n",
      " [9.97526894e-01 1.23149018e-03 1.24161605e-03]\n",
      " [1.65977272e-03 1.57805859e-03 9.96762169e-01]\n",
      " [9.82254095e-01 6.48130052e-04 1.70977753e-02]\n",
      " [9.97066092e-01 1.41961001e-03 1.51429786e-03]\n",
      " [9.08617814e-01 1.61333928e-03 8.97688462e-02]\n",
      " [9.97081034e-01 1.34287016e-03 1.57609541e-03]\n",
      " [9.97150052e-01 1.35463130e-03 1.49531680e-03]\n",
      " [9.97567952e-01 1.15939037e-03 1.27265808e-03]\n",
      " [9.97627738e-01 1.16850516e-03 1.20375700e-03]\n",
      " [9.96818843e-01 1.52179583e-03 1.65936091e-03]\n",
      " [8.88234296e-04 9.98217629e-01 8.94136948e-04]\n",
      " [9.97488823e-01 1.19087400e-03 1.32030331e-03]\n",
      " [9.97678232e-01 1.12538516e-03 1.19638305e-03]\n",
      " [9.03207688e-04 8.29305207e-04 9.98267487e-01]\n",
      " [1.44885097e-03 1.28580946e-03 9.97265340e-01]\n",
      " [9.99192899e-01 4.02334514e-04 4.04766435e-04]\n",
      " [9.97961940e-01 9.96678632e-04 1.04138183e-03]\n",
      " [9.98233102e-01 8.66789418e-04 9.00108727e-04]\n",
      " [9.98563828e-01 6.71836759e-04 7.64335576e-04]\n",
      " [9.98910578e-01 5.21154708e-04 5.68267636e-04]\n",
      " [9.98846930e-01 5.56263205e-04 5.96806612e-04]\n",
      " [9.98937569e-01 5.02645026e-04 5.59785483e-04]\n",
      " [9.99021398e-01 4.76664559e-04 5.01937146e-04]]\n",
      "[0.74373189 0.03971178 0.21655633]\n",
      "[0 1 2]\n"
     ]
    },
    {
     "data": {
      "image/png": "[encoded data removed]",
      "text/plain": [
       "<Figure size 432x288 with 1 Axes>"
      ]
     },
     "metadata": {
      "needs_background": "light"
     },
     "output_type": "display_data"
    },
    {
     "data": {
      "image/png": "[encoded data removed]",
      "text/plain": [
       "<Figure size 432x288 with 1 Axes>"
      ]
     },
     "metadata": {
      "needs_background": "light"
     },
     "output_type": "display_data"
    },
    {
     "data": {
      "image/png": "[encoded data removed]",
      "text/plain": [
       "<Figure size 432x288 with 1 Axes>"
      ]
     },
     "metadata": {
      "needs_background": "light"
     },
     "output_type": "display_data"
    },
    {
     "data": {
      "image/png": "[encoded data removed]",
      "text/plain": [
       "<Figure size 432x288 with 1 Axes>"
      ]
     },
     "metadata": {
      "needs_background": "light"
     },
     "output_type": "display_data"
    },
    {
     "data": {
      "image/png": "[encoded data removed]",
      "text/plain": [
       "<Figure size 432x288 with 1 Axes>"
      ]
     },
     "metadata": {
      "needs_background": "light"
     },
     "output_type": "display_data"
    }
   ],
   "source": [
    "#Generando algunos gráficos de los resultados\n",
    "from matplotlib.pylab import hist, show\n",
    "import seaborn as sns\n",
    "\n",
    "lda = LatentDirichletAllocation(n_components=true_k, max_iter=100,\n",
    "                                learning_method='online',\n",
    "                                learning_offset=50.,\n",
    "                                random_state=0)\n",
    "y=lda.fit_transform(tf)\n",
    "\n",
    "print(y)\n",
    "#distribución de tópicos en todos los documentos\n",
    "dist = sum(y)/len(noticias)\n",
    "print(dist)\n",
    "\n",
    "w=np.arange(0,true_k)\n",
    "print(w)\n",
    "plt.bar(w,height=dist,alpha=0.5,tick_label=w)\n",
    "show()\n",
    "#distribución de tópicos en el documento 51\n",
    "plt.bar(w,height=y[50],alpha=0.5,tick_label=w)\n",
    "show()\n",
    "\n",
    "\n",
    "#frecuencia de palabras por tópico\n",
    "n_top_words=15\n",
    "numo =np.arange(0,n_top_words)\n",
    "for idx,topic in enumerate(lda.components_):\n",
    "    d =[]\n",
    "    s = []\n",
    "    for i in topic.argsort()[:-n_top_words - 1:-1]:\n",
    "        s.append(diccionario[i])\n",
    "        d.append(topic[i])\n",
    "    \n",
    "    plt.barh(numo,width=d,alpha=0.5,tick_label=s)\n",
    "    show()\n"
   ]
  },
  {
   "cell_type": "markdown",
   "metadata": {},
   "source": [
    "<div style=\"border: 2px solid #1c75c8; background-color: #c5ddf6;\">\n",
    "<p>Pregunta Nº5: Interprete estos gráficos. \n",
    "</p></div>"
   ]
  },
  {
   "cell_type": "code",
   "execution_count": 22,
   "metadata": {},
   "outputs": [
    {
     "data": {
      "image/png": "[encoded data removed]",
      "text/plain": [
       "<Figure size 432x288 with 1 Axes>"
      ]
     },
     "metadata": {
      "needs_background": "light"
     },
     "output_type": "display_data"
    },
    {
     "data": {
      "image/png": "[encoded data removed]",
      "text/plain": [
       "<Figure size 432x288 with 1 Axes>"
      ]
     },
     "metadata": {
      "needs_background": "light"
     },
     "output_type": "display_data"
    }
   ],
   "source": [
    "#calculando cluster en base al tópico mas frecuente\n",
    "z=[]\n",
    "for i in range(len(noticias)):\n",
    "    z.append(np.argmax(y[i]))\n",
    "plt.scatter(range(88),z,c=z)\n",
    "\n",
    "#distribución de cluster de acuerdo al cálculo anterior\n",
    "show()\n",
    "hist(z,bins=np.arange(-0.5,5.6,1),alpha=0.5,rwidth=0.9,density=True)\n",
    "show()\n"
   ]
  },
  {
   "cell_type": "markdown",
   "metadata": {},
   "source": [
    "<div style=\"border: 2px solid #1c75c8; background-color: #c5ddf6;\">\n",
    "<p>Pregunta Nº6: ¿Cómo se comparan estos resultados con los de  Kmeans?\n",
    "</p></div>\n"
   ]
  },
  {
   "cell_type": "markdown",
   "metadata": {},
   "source": [
    "<div style=\"border: 2px solid #1c75c8; background-color: #F8B4B4\">\n",
    "<p>Una nueva estimación para algoritmo LDA considerando <a href=\"https://drive.google.com/open?id=1oSRRvG_W0UaH0l4o9f5ClEyWuGY1j-s0\"> Gibbs Sampling</a>, disponible como desarrollo en <a href=\"https://github.com/lda-project/lda/\">lda-project.</a></p> \n",
    "</div>"
   ]
  },
  {
   "cell_type": "code",
   "execution_count": 5,
   "metadata": {},
   "outputs": [
    {
     "name": "stdout",
     "output_type": "stream",
     "text": [
      "Requirement already satisfied: setuptools in c:\\users\\56994\\anaconda3\\lib\\site-packages (52.0.0.post20210125)\n"
     ]
    }
   ],
   "source": [
    "!pip install setuptools\n"
   ]
  },
  {
   "cell_type": "code",
   "execution_count": 6,
   "metadata": {},
   "outputs": [],
   "source": [
    "import setuptools\n"
   ]
  },
  {
   "cell_type": "code",
   "execution_count": 7,
   "metadata": {},
   "outputs": [
    {
     "name": "stdout",
     "output_type": "stream",
     "text": [
      "Collecting lda\n",
      "  Using cached lda-2.0.0.tar.gz (320 kB)\n",
      "Requirement already satisfied: pbr<4,>=0.6 in c:\\users\\56994\\anaconda3\\lib\\site-packages (from lda) (3.1.1)\n",
      "Requirement already satisfied: numpy<2.0,>=1.13.0 in c:\\users\\56994\\anaconda3\\lib\\site-packages (from lda) (1.20.1)\n",
      "Building wheels for collected packages: lda\n",
      "  Building wheel for lda (setup.py): started\n",
      "  Building wheel for lda (setup.py): finished with status 'error'\n",
      "  Running setup.py clean for lda\n",
      "Failed to build lda\n",
      "Installing collected packages: lda\n",
      "    Running setup.py install for lda: started\n",
      "    Running setup.py install for lda: finished with status 'error'\n"
     ]
    },
    {
     "name": "stderr",
     "output_type": "stream",
     "text": [
      "  ERROR: Command errored out with exit status 1:\n",
      "   command: 'C:\\Users\\56994\\anaconda3\\python.exe' -u -c 'import sys, setuptools, tokenize; sys.argv[0] = '\"'\"'C:\\\\Users\\\\56994\\\\AppData\\\\Local\\\\Temp\\\\pip-install-_bqx_9ml\\\\lda_8a47fd3b445f4d3bb9dc817af3fde2f4\\\\setup.py'\"'\"'; __file__='\"'\"'C:\\\\Users\\\\56994\\\\AppData\\\\Local\\\\Temp\\\\pip-install-_bqx_9ml\\\\lda_8a47fd3b445f4d3bb9dc817af3fde2f4\\\\setup.py'\"'\"';f=getattr(tokenize, '\"'\"'open'\"'\"', open)(__file__);code=f.read().replace('\"'\"'\\r\\n'\"'\"', '\"'\"'\\n'\"'\"');f.close();exec(compile(code, __file__, '\"'\"'exec'\"'\"'))' bdist_wheel -d 'C:\\Users\\56994\\AppData\\Local\\Temp\\pip-wheel-w2f1e43r'\n",
      "       cwd: C:\\Users\\56994\\AppData\\Local\\Temp\\pip-install-_bqx_9ml\\lda_8a47fd3b445f4d3bb9dc817af3fde2f4\\\n",
      "  Complete output (43 lines):\n",
      "  C:\\Users\\56994\\anaconda3\\lib\\site-packages\\setuptools\\dist.py:42: DistDeprecationWarning: Do not call this function\n",
      "    warnings.warn(\"Do not call this function\", DistDeprecationWarning)\n",
      "  running bdist_wheel\n",
      "  running build\n",
      "  running build_py\n",
      "  creating build\n",
      "  creating build\\lib.win-amd64-3.8\n",
      "  creating build\\lib.win-amd64-3.8\\lda\n",
      "  creating build\\lib.win-amd64-3.8\\lda\\tests\n",
      "  copying lda\\tests\\test_datasets.py -> build\\lib.win-amd64-3.8\\lda\\tests\n",
      "  copying lda\\tests\\test_lda.py -> build\\lib.win-amd64-3.8\\lda\\tests\n",
      "  copying lda\\tests\\test_lda_reuters.py -> build\\lib.win-amd64-3.8\\lda\\tests\n",
      "  copying lda\\tests\\test_lda_sparse.py -> build\\lib.win-amd64-3.8\\lda\\tests\n",
      "  copying lda\\tests\\test_lda_transform.py -> build\\lib.win-amd64-3.8\\lda\\tests\n",
      "  copying lda\\tests\\test_utils.py -> build\\lib.win-amd64-3.8\\lda\\tests\n",
      "  copying lda\\tests\\__init__.py -> build\\lib.win-amd64-3.8\\lda\\tests\n",
      "  copying lda\\datasets.py -> build\\lib.win-amd64-3.8\\lda\n",
      "  copying lda\\lda.py -> build\\lib.win-amd64-3.8\\lda\n",
      "  copying lda\\utils.py -> build\\lib.win-amd64-3.8\\lda\n",
      "  copying lda\\_setup_hooks.py -> build\\lib.win-amd64-3.8\\lda\n",
      "  copying lda\\__init__.py -> build\\lib.win-amd64-3.8\\lda\n",
      "  running egg_info\n",
      "  writing lda.egg-info\\PKG-INFO\n",
      "  writing dependency_links to lda.egg-info\\dependency_links.txt\n",
      "  writing requirements to lda.egg-info\\requires.txt\n",
      "  writing top-level names to lda.egg-info\\top_level.txt\n",
      "  [pbr] Reusing existing SOURCES.txt\n",
      "  copying lda\\tests\\reuters.ldac -> build\\lib.win-amd64-3.8\\lda\\tests\n",
      "  copying lda\\tests\\reuters.titles -> build\\lib.win-amd64-3.8\\lda\\tests\n",
      "  copying lda\\tests\\reuters.tokens -> build\\lib.win-amd64-3.8\\lda\\tests\n",
      "  copying lda\\_lda.c -> build\\lib.win-amd64-3.8\\lda\n",
      "  copying lda\\_lda.pyx -> build\\lib.win-amd64-3.8\\lda\n",
      "  copying lda\\gamma.c -> build\\lib.win-amd64-3.8\\lda\n",
      "  copying lda\\gamma.h -> build\\lib.win-amd64-3.8\\lda\n",
      "  running build_ext\n",
      "  building 'lda._lda' extension\n",
      "  creating build\\temp.win-amd64-3.8\n",
      "  creating build\\temp.win-amd64-3.8\\Release\n",
      "  creating build\\temp.win-amd64-3.8\\Release\\lda\n",
      "  C:\\Program Files (x86)\\Microsoft Visual Studio\\2019\\BuildTools\\VC\\Tools\\MSVC\\14.29.30133\\bin\\HostX86\\x64\\cl.exe /c /nologo /Ox /W3 /GL /DNDEBUG /MD -IC:\\Users\\56994\\anaconda3\\include -IC:\\Users\\56994\\anaconda3\\include \"-IC:\\Program Files (x86)\\Microsoft Visual Studio\\2019\\BuildTools\\VC\\Tools\\MSVC\\14.29.30133\\include\" \"-IC:\\Program Files (x86)\\Windows Kits\\NETFXSDK\\4.8\\include\\um\" /Tclda/_lda.c /Fobuild\\temp.win-amd64-3.8\\Release\\lda/_lda.obj\n",
      "  _lda.c\n",
      "  C:\\Users\\56994\\anaconda3\\include\\pyconfig.h(59): fatal error C1083: No se puede abrir el archivo incluir: 'io.h': No such file or directory\n",
      "  error: command 'C:\\\\Program Files (x86)\\\\Microsoft Visual Studio\\\\2019\\\\BuildTools\\\\VC\\\\Tools\\\\MSVC\\\\14.29.30133\\\\bin\\\\HostX86\\\\x64\\\\cl.exe' failed with exit status 2\n",
      "  ----------------------------------------\n",
      "  ERROR: Failed building wheel for lda\n",
      "    ERROR: Command errored out with exit status 1:\n",
      "     command: 'C:\\Users\\56994\\anaconda3\\python.exe' -u -c 'import sys, setuptools, tokenize; sys.argv[0] = '\"'\"'C:\\\\Users\\\\56994\\\\AppData\\\\Local\\\\Temp\\\\pip-install-_bqx_9ml\\\\lda_8a47fd3b445f4d3bb9dc817af3fde2f4\\\\setup.py'\"'\"'; __file__='\"'\"'C:\\\\Users\\\\56994\\\\AppData\\\\Local\\\\Temp\\\\pip-install-_bqx_9ml\\\\lda_8a47fd3b445f4d3bb9dc817af3fde2f4\\\\setup.py'\"'\"';f=getattr(tokenize, '\"'\"'open'\"'\"', open)(__file__);code=f.read().replace('\"'\"'\\r\\n'\"'\"', '\"'\"'\\n'\"'\"');f.close();exec(compile(code, __file__, '\"'\"'exec'\"'\"'))' install --record 'C:\\Users\\56994\\AppData\\Local\\Temp\\pip-record-z3au2lt1\\install-record.txt' --single-version-externally-managed --compile --install-headers 'C:\\Users\\56994\\anaconda3\\Include\\lda'\n",
      "         cwd: C:\\Users\\56994\\AppData\\Local\\Temp\\pip-install-_bqx_9ml\\lda_8a47fd3b445f4d3bb9dc817af3fde2f4\\\n",
      "    Complete output (45 lines):\n",
      "    C:\\Users\\56994\\anaconda3\\lib\\site-packages\\setuptools\\dist.py:42: DistDeprecationWarning: Do not call this function\n",
      "      warnings.warn(\"Do not call this function\", DistDeprecationWarning)\n",
      "    running install\n",
      "    [pbr] Generating AUTHORS\n",
      "    [pbr] AUTHORS complete (0.0s)\n",
      "    running build\n",
      "    running build_py\n",
      "    creating build\n",
      "    creating build\\lib.win-amd64-3.8\n",
      "    creating build\\lib.win-amd64-3.8\\lda\n",
      "    creating build\\lib.win-amd64-3.8\\lda\\tests\n",
      "    copying lda\\tests\\test_datasets.py -> build\\lib.win-amd64-3.8\\lda\\tests\n",
      "    copying lda\\tests\\test_lda.py -> build\\lib.win-amd64-3.8\\lda\\tests\n",
      "    copying lda\\tests\\test_lda_reuters.py -> build\\lib.win-amd64-3.8\\lda\\tests\n",
      "    copying lda\\tests\\test_lda_sparse.py -> build\\lib.win-amd64-3.8\\lda\\tests\n",
      "    copying lda\\tests\\test_lda_transform.py -> build\\lib.win-amd64-3.8\\lda\\tests\n",
      "    copying lda\\tests\\test_utils.py -> build\\lib.win-amd64-3.8\\lda\\tests\n",
      "    copying lda\\tests\\__init__.py -> build\\lib.win-amd64-3.8\\lda\\tests\n",
      "    copying lda\\datasets.py -> build\\lib.win-amd64-3.8\\lda\n",
      "    copying lda\\lda.py -> build\\lib.win-amd64-3.8\\lda\n",
      "    copying lda\\utils.py -> build\\lib.win-amd64-3.8\\lda\n",
      "    copying lda\\_setup_hooks.py -> build\\lib.win-amd64-3.8\\lda\n",
      "    copying lda\\__init__.py -> build\\lib.win-amd64-3.8\\lda\n",
      "    running egg_info\n",
      "    writing lda.egg-info\\PKG-INFO\n",
      "    writing dependency_links to lda.egg-info\\dependency_links.txt\n",
      "    writing requirements to lda.egg-info\\requires.txt\n",
      "    writing top-level names to lda.egg-info\\top_level.txt\n",
      "    [pbr] Reusing existing SOURCES.txt\n",
      "    copying lda\\tests\\reuters.ldac -> build\\lib.win-amd64-3.8\\lda\\tests\n",
      "    copying lda\\tests\\reuters.titles -> build\\lib.win-amd64-3.8\\lda\\tests\n",
      "    copying lda\\tests\\reuters.tokens -> build\\lib.win-amd64-3.8\\lda\\tests\n",
      "    copying lda\\_lda.c -> build\\lib.win-amd64-3.8\\lda\n",
      "    copying lda\\_lda.pyx -> build\\lib.win-amd64-3.8\\lda\n",
      "    copying lda\\gamma.c -> build\\lib.win-amd64-3.8\\lda\n",
      "    copying lda\\gamma.h -> build\\lib.win-amd64-3.8\\lda\n",
      "    running build_ext\n",
      "    building 'lda._lda' extension\n",
      "    creating build\\temp.win-amd64-3.8\n",
      "    creating build\\temp.win-amd64-3.8\\Release\n",
      "    creating build\\temp.win-amd64-3.8\\Release\\lda\n",
      "    C:\\Program Files (x86)\\Microsoft Visual Studio\\2019\\BuildTools\\VC\\Tools\\MSVC\\14.29.30133\\bin\\HostX86\\x64\\cl.exe /c /nologo /Ox /W3 /GL /DNDEBUG /MD -IC:\\Users\\56994\\anaconda3\\include -IC:\\Users\\56994\\anaconda3\\include \"-IC:\\Program Files (x86)\\Microsoft Visual Studio\\2019\\BuildTools\\VC\\Tools\\MSVC\\14.29.30133\\include\" \"-IC:\\Program Files (x86)\\Windows Kits\\NETFXSDK\\4.8\\include\\um\" /Tclda/_lda.c /Fobuild\\temp.win-amd64-3.8\\Release\\lda/_lda.obj\n",
      "    _lda.c\n",
      "    C:\\Users\\56994\\anaconda3\\include\\pyconfig.h(59): fatal error C1083: No se puede abrir el archivo incluir: 'io.h': No such file or directory\n",
      "    error: command 'C:\\\\Program Files (x86)\\\\Microsoft Visual Studio\\\\2019\\\\BuildTools\\\\VC\\\\Tools\\\\MSVC\\\\14.29.30133\\\\bin\\\\HostX86\\\\x64\\\\cl.exe' failed with exit status 2\n",
      "    ----------------------------------------\n",
      "ERROR: Command errored out with exit status 1: 'C:\\Users\\56994\\anaconda3\\python.exe' -u -c 'import sys, setuptools, tokenize; sys.argv[0] = '\"'\"'C:\\\\Users\\\\56994\\\\AppData\\\\Local\\\\Temp\\\\pip-install-_bqx_9ml\\\\lda_8a47fd3b445f4d3bb9dc817af3fde2f4\\\\setup.py'\"'\"'; __file__='\"'\"'C:\\\\Users\\\\56994\\\\AppData\\\\Local\\\\Temp\\\\pip-install-_bqx_9ml\\\\lda_8a47fd3b445f4d3bb9dc817af3fde2f4\\\\setup.py'\"'\"';f=getattr(tokenize, '\"'\"'open'\"'\"', open)(__file__);code=f.read().replace('\"'\"'\\r\\n'\"'\"', '\"'\"'\\n'\"'\"');f.close();exec(compile(code, __file__, '\"'\"'exec'\"'\"'))' install --record 'C:\\Users\\56994\\AppData\\Local\\Temp\\pip-record-z3au2lt1\\install-record.txt' --single-version-externally-managed --compile --install-headers 'C:\\Users\\56994\\anaconda3\\Include\\lda' Check the logs for full command output.\n"
     ]
    }
   ],
   "source": [
    "!pip install lda"
   ]
  },
  {
   "cell_type": "code",
   "execution_count": 4,
   "metadata": {},
   "outputs": [
    {
     "ename": "ModuleNotFoundError",
     "evalue": "No module named 'lda'",
     "output_type": "error",
     "traceback": [
      "\u001b[1;31m---------------------------------------------------------------------------\u001b[0m",
      "\u001b[1;31mModuleNotFoundError\u001b[0m                       Traceback (most recent call last)",
      "\u001b[1;32m<ipython-input-4-af2e49dba80e>\u001b[0m in \u001b[0;36m<module>\u001b[1;34m\u001b[0m\n\u001b[1;32m----> 1\u001b[1;33m \u001b[1;32mimport\u001b[0m \u001b[0mlda\u001b[0m\u001b[1;33m\u001b[0m\u001b[1;33m\u001b[0m\u001b[0m\n\u001b[0m\u001b[0;32m      2\u001b[0m \u001b[1;33m\u001b[0m\u001b[0m\n\u001b[0;32m      3\u001b[0m \u001b[0mmodel\u001b[0m \u001b[1;33m=\u001b[0m \u001b[0mlda\u001b[0m\u001b[1;33m.\u001b[0m\u001b[0mLDA\u001b[0m\u001b[1;33m(\u001b[0m\u001b[0mn_topics\u001b[0m\u001b[1;33m=\u001b[0m\u001b[0mtrue_k\u001b[0m\u001b[1;33m,\u001b[0m \u001b[0mn_iter\u001b[0m\u001b[1;33m=\u001b[0m\u001b[1;36m5000\u001b[0m\u001b[1;33m,\u001b[0m \u001b[0malpha\u001b[0m\u001b[1;33m=\u001b[0m\u001b[1;36m0.1\u001b[0m\u001b[1;33m,\u001b[0m \u001b[0meta\u001b[0m\u001b[1;33m=\u001b[0m\u001b[1;36m0.1\u001b[0m\u001b[1;33m,\u001b[0m \u001b[0mrandom_state\u001b[0m\u001b[1;33m=\u001b[0m\u001b[1;36m3\u001b[0m\u001b[1;33m)\u001b[0m\u001b[1;33m\u001b[0m\u001b[1;33m\u001b[0m\u001b[0m\n\u001b[0;32m      4\u001b[0m \u001b[0mmodel\u001b[0m\u001b[1;33m.\u001b[0m\u001b[0mfit\u001b[0m\u001b[1;33m(\u001b[0m\u001b[0mtf\u001b[0m\u001b[1;33m)\u001b[0m  \u001b[1;31m# model.fit_transform(X) is also available\u001b[0m\u001b[1;33m\u001b[0m\u001b[1;33m\u001b[0m\u001b[0m\n\u001b[0;32m      5\u001b[0m \u001b[1;33m\u001b[0m\u001b[0m\n",
      "\u001b[1;31mModuleNotFoundError\u001b[0m: No module named 'lda'"
     ]
    }
   ],
   "source": [
    "import lda\n",
    "\n",
    "model = lda.LDA(n_topics=true_k, n_iter=5000, alpha=0.1, eta=0.1, random_state=3)\n",
    "model.fit(tf)  # model.fit_transform(X) is also available\n",
    "\n",
    "topic_word = model.topic_word_  # model.components_ also works\n",
    "n_top_words=10\n",
    "for i, topic_dist in enumerate(topic_word):\n",
    "    topic_words = np.array(diccionario)[np.argsort(topic_dist)][:-(n_top_words+1):-1]\n",
    "    print('Topic {}: {}'.format(i, ' '.join(topic_words)))\n",
    "    \n"
   ]
  },
  {
   "cell_type": "code",
   "execution_count": 14,
   "metadata": {},
   "outputs": [
    {
     "data": {
      "text/plain": [
       "[<matplotlib.lines.Line2D at 0x20f731d4668>]"
      ]
     },
     "execution_count": 14,
     "metadata": {},
     "output_type": "execute_result"
    },
    {
     "data": {
      "image/png": "[encoded data removed]",
      "text/plain": [
       "<Figure size 432x288 with 1 Axes>"
      ]
     },
     "metadata": {
      "needs_background": "light"
     },
     "output_type": "display_data"
    }
   ],
   "source": [
    "plt.plot(model.loglikelihoods_[5:])"
   ]
  },
  {
   "cell_type": "code",
   "execution_count": 19,
   "metadata": {},
   "outputs": [
    {
     "ename": "AttributeError",
     "evalue": "'KMeans' object has no attribute 'doc_topic_'",
     "output_type": "error",
     "traceback": [
      "\u001b[1;31m---------------------------------------------------------------------------\u001b[0m",
      "\u001b[1;31mAttributeError\u001b[0m                            Traceback (most recent call last)",
      "\u001b[1;32m<ipython-input-19-8c7bab070a99>\u001b[0m in \u001b[0;36m<module>\u001b[1;34m\u001b[0m\n\u001b[0;32m      2\u001b[0m \u001b[1;32mfrom\u001b[0m \u001b[0mmatplotlib\u001b[0m\u001b[1;33m.\u001b[0m\u001b[0mpylab\u001b[0m \u001b[1;32mimport\u001b[0m \u001b[0mhist\u001b[0m\u001b[1;33m,\u001b[0m \u001b[0mshow\u001b[0m\u001b[1;33m\u001b[0m\u001b[1;33m\u001b[0m\u001b[0m\n\u001b[0;32m      3\u001b[0m \u001b[1;33m\u001b[0m\u001b[0m\n\u001b[1;32m----> 4\u001b[1;33m \u001b[0my\u001b[0m\u001b[1;33m=\u001b[0m\u001b[0mmodel\u001b[0m\u001b[1;33m.\u001b[0m\u001b[0mdoc_topic_\u001b[0m\u001b[1;33m\u001b[0m\u001b[1;33m\u001b[0m\u001b[0m\n\u001b[0m\u001b[0;32m      5\u001b[0m \u001b[1;31m#distribución de tópicos en todos los documentos\u001b[0m\u001b[1;33m\u001b[0m\u001b[1;33m\u001b[0m\u001b[1;33m\u001b[0m\u001b[0m\n\u001b[0;32m      6\u001b[0m \u001b[0mdist\u001b[0m \u001b[1;33m=\u001b[0m \u001b[0msum\u001b[0m\u001b[1;33m(\u001b[0m\u001b[0my\u001b[0m\u001b[1;33m)\u001b[0m\u001b[1;33m/\u001b[0m\u001b[0mlen\u001b[0m\u001b[1;33m(\u001b[0m\u001b[0mnoticias\u001b[0m\u001b[1;33m)\u001b[0m\u001b[1;33m\u001b[0m\u001b[1;33m\u001b[0m\u001b[0m\n",
      "\u001b[1;31mAttributeError\u001b[0m: 'KMeans' object has no attribute 'doc_topic_'"
     ]
    }
   ],
   "source": [
    "#Generando algunos gráficos de los resultados\n",
    "from matplotlib.pylab import hist, show\n",
    "\n",
    "y=model.doc_topic_\n",
    "#distribución de tópicos en todos los documentos\n",
    "dist = sum(y)/len(noticias)\n",
    "w=np.arange(0,true_k)\n",
    "plt.bar(w,height=dist,alpha=0.5,tick_label=w)\n",
    "show()\n",
    "\n",
    "#distribución de tópicos en el documento 100\n",
    "plt.bar(w,height=y[99],alpha=0.5,tick_label=w)\n",
    "show()\n",
    "\n",
    "#frecuencia de palabras por tópico\n",
    "n_top_words=15\n",
    "numo =np.arange(0,n_top_words)\n",
    "\n",
    "for idx,topic in enumerate(model.topic_word_):\n",
    "    d =[]\n",
    "    s = []\n",
    "    for i in topic.argsort()[:-n_top_words - 1:-1]:\n",
    "        s.append(diccionario[i])\n",
    "        d.append(topic[i])\n",
    "    \n",
    "    plt.barh(numo,width=d,alpha=0.5,tick_label=s)\n",
    "    show()\n",
    "\n",
    "\n",
    "\n"
   ]
  },
  {
   "cell_type": "code",
   "execution_count": 16,
   "metadata": {},
   "outputs": [
    {
     "data": {
      "image/png": "[encoded data removed]",
      "text/plain": [
       "<Figure size 432x288 with 1 Axes>"
      ]
     },
     "metadata": {
      "needs_background": "light"
     },
     "output_type": "display_data"
    },
    {
     "data": {
      "image/png": "[encoded data removed]",
      "text/plain": [
       "<Figure size 432x288 with 1 Axes>"
      ]
     },
     "metadata": {
      "needs_background": "light"
     },
     "output_type": "display_data"
    }
   ],
   "source": [
    "#calculando cluster en base al tópico mas frecuente\n",
    "z=[]\n",
    "for i in range(len(noticias)):\n",
    "    z.append(np.argmax(y[i]))\n",
    "plt.scatter(range(100),z,c=z)\n",
    "show()\n",
    "\n",
    "#distribución de cluster de acuerdo a la definición anterior\n",
    "hist(z,bins=np.arange(-0.5,5.6,1),alpha=0.5,rwidth=0.9,density=True)\n",
    "show()\n",
    "\n"
   ]
  },
  {
   "cell_type": "markdown",
   "metadata": {},
   "source": [
    "<div style=\"border: 2px solid #1c75c8; background-color: #c5ddf6;\">\n",
    "<p>Pregunta Nº7: ¿Cómo se comparan estos resultados con los anteriores? ¿Qué puede decir de la convergencia de la estimación en este caso?\n",
    "</p></div>"
   ]
  }
 ],
 "metadata": {
  "kernelspec": {
   "display_name": "Python 3",
   "language": "python",
   "name": "python3"
  },
  "language_info": {
   "codemirror_mode": {
    "name": "ipython",
    "version": 3
   },
   "file_extension": ".py",
   "mimetype": "text/x-python",
   "name": "python",
   "nbconvert_exporter": "python",
   "pygments_lexer": "ipython3",
   "version": "3.8.8"
  }
 },
 "nbformat": 4,
 "nbformat_minor": 2
}
